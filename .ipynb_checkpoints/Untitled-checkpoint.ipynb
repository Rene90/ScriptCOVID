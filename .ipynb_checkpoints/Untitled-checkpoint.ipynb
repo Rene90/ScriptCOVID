{
 "cells": [
  {
   "cell_type": "code",
   "execution_count": 50,
   "metadata": {
    "collapsed": true
   },
   "outputs": [],
   "source": [
    "import pandas as pd\n",
    "import numpy as np\n",
    "import matplotlib\n",
    "import matplotlib.pyplot as plt"
   ]
  },
  {
   "cell_type": "code",
   "execution_count": null,
   "metadata": {
    "collapsed": true
   },
   "outputs": [],
   "source": []
  },
  {
   "cell_type": "code",
   "execution_count": 15,
   "metadata": {
    "collapsed": true
   },
   "outputs": [],
   "source": [
    "import requests\n",
    "url = 'https://datos.covid-19.conacyt.mx/Downloads/Files/Casos_Diarios_Estado_Nacional_Confirmados_20210128.csv'"
   ]
  },
  {
   "cell_type": "code",
   "execution_count": 6,
   "metadata": {
    "collapsed": true
   },
   "outputs": [],
   "source": [
    "r = requests.get(url, allow_redirects=True, stream = True)"
   ]
  },
  {
   "cell_type": "code",
   "execution_count": 16,
   "metadata": {
    "collapsed": true
   },
   "outputs": [],
   "source": [
    "req = requests.get(url)\n",
    "url_content = req.content\n",
    "csv_file = open('datoscovid.csv', 'wb')\n",
    "\n",
    "csv_file.write(url_content)\n",
    "csv_file.close()\n",
    "    \n"
   ]
  },
  {
   "cell_type": "code",
   "execution_count": 17,
   "metadata": {
    "collapsed": true
   },
   "outputs": [],
   "source": [
    "datos = pd.read_csv(\"datoscovid.csv\")"
   ]
  },
  {
   "cell_type": "code",
   "execution_count": 24,
   "metadata": {},
   "outputs": [
    {
     "name": "stdout",
     "output_type": "stream",
     "text": [
      "03-05-2020\n"
     ]
    }
   ],
   "source": [
    "print (datos.columns[100])"
   ]
  },
  {
   "cell_type": "code",
   "execution_count": 34,
   "metadata": {},
   "outputs": [],
   "source": [
    "distrito = datos[datos['nombre']=='DISTRITO FEDERAL']"
   ]
  },
  {
   "cell_type": "code",
   "execution_count": 43,
   "metadata": {},
   "outputs": [
    {
     "data": {
      "text/plain": [
       "<pandas.core.indexing._LocIndexer at 0x7f7f6895ba20>"
      ]
     },
     "execution_count": 43,
     "metadata": {},
     "output_type": "execute_result"
    }
   ],
   "source": [
    "distrito.loc('6')"
   ]
  },
  {
   "cell_type": "code",
   "execution_count": 44,
   "metadata": {},
   "outputs": [
    {
     "data": {
      "text/html": [
       "<div>\n",
       "<style>\n",
       "    .dataframe thead tr:only-child th {\n",
       "        text-align: right;\n",
       "    }\n",
       "\n",
       "    .dataframe thead th {\n",
       "        text-align: left;\n",
       "    }\n",
       "\n",
       "    .dataframe tbody tr th {\n",
       "        vertical-align: top;\n",
       "    }\n",
       "</style>\n",
       "<table border=\"1\" class=\"dataframe\">\n",
       "  <thead>\n",
       "    <tr style=\"text-align: right;\">\n",
       "      <th></th>\n",
       "      <th>cve_ent</th>\n",
       "      <th>poblacion</th>\n",
       "      <th>nombre</th>\n",
       "      <th>27-01-2020</th>\n",
       "      <th>28-01-2020</th>\n",
       "      <th>29-01-2020</th>\n",
       "      <th>30-01-2020</th>\n",
       "      <th>31-01-2020</th>\n",
       "      <th>01-02-2020</th>\n",
       "      <th>02-02-2020</th>\n",
       "      <th>...</th>\n",
       "      <th>19-01-2021</th>\n",
       "      <th>20-01-2021</th>\n",
       "      <th>21-01-2021</th>\n",
       "      <th>22-01-2021</th>\n",
       "      <th>23-01-2021</th>\n",
       "      <th>24-01-2021</th>\n",
       "      <th>25-01-2021</th>\n",
       "      <th>26-01-2021</th>\n",
       "      <th>27-01-2021</th>\n",
       "      <th>28-01-2021</th>\n",
       "    </tr>\n",
       "  </thead>\n",
       "  <tbody>\n",
       "    <tr>\n",
       "      <th>6</th>\n",
       "      <td>9</td>\n",
       "      <td>9018645</td>\n",
       "      <td>DISTRITO FEDERAL</td>\n",
       "      <td>0</td>\n",
       "      <td>0</td>\n",
       "      <td>0</td>\n",
       "      <td>0</td>\n",
       "      <td>0</td>\n",
       "      <td>0</td>\n",
       "      <td>0</td>\n",
       "      <td>...</td>\n",
       "      <td>5564</td>\n",
       "      <td>5121</td>\n",
       "      <td>4959</td>\n",
       "      <td>4796</td>\n",
       "      <td>2403</td>\n",
       "      <td>878</td>\n",
       "      <td>4482</td>\n",
       "      <td>4402</td>\n",
       "      <td>2999</td>\n",
       "      <td>16</td>\n",
       "    </tr>\n",
       "  </tbody>\n",
       "</table>\n",
       "<p>1 rows × 371 columns</p>\n",
       "</div>"
      ],
      "text/plain": [
       "   cve_ent  poblacion            nombre  27-01-2020  28-01-2020  29-01-2020  \\\n",
       "6        9    9018645  DISTRITO FEDERAL           0           0           0   \n",
       "\n",
       "   30-01-2020  31-01-2020  01-02-2020  02-02-2020     ...      19-01-2021  \\\n",
       "6           0           0           0           0     ...            5564   \n",
       "\n",
       "   20-01-2021  21-01-2021  22-01-2021  23-01-2021  24-01-2021  25-01-2021  \\\n",
       "6        5121        4959        4796        2403         878        4482   \n",
       "\n",
       "   26-01-2021  27-01-2021  28-01-2021  \n",
       "6        4402        2999          16  \n",
       "\n",
       "[1 rows x 371 columns]"
      ]
     },
     "execution_count": 44,
     "metadata": {},
     "output_type": "execute_result"
    }
   ],
   "source": [
    "distrito"
   ]
  },
  {
   "cell_type": "code",
   "execution_count": 46,
   "metadata": {},
   "outputs": [],
   "source": [
    "filalista = list(distrito.iloc[0,:])"
   ]
  },
  {
   "cell_type": "code",
   "execution_count": 51,
   "metadata": {},
   "outputs": [],
   "source": [
    "dias = np.asarray(filalista[3:])"
   ]
  },
  {
   "cell_type": "code",
   "execution_count": null,
   "metadata": {
    "collapsed": true
   },
   "outputs": [],
   "source": []
  },
  {
   "cell_type": "code",
   "execution_count": null,
   "metadata": {
    "collapsed": true
   },
   "outputs": [],
   "source": []
  }
 ],
 "metadata": {
  "kernelspec": {
   "display_name": "Python 3",
   "language": "python",
   "name": "python3"
  },
  "language_info": {
   "codemirror_mode": {
    "name": "ipython",
    "version": 3
   },
   "file_extension": ".py",
   "mimetype": "text/x-python",
   "name": "python",
   "nbconvert_exporter": "python",
   "pygments_lexer": "ipython3",
   "version": "3.6.2"
  }
 },
 "nbformat": 4,
 "nbformat_minor": 2
}
